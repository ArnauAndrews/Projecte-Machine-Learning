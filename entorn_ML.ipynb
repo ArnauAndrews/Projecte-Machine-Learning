{
 "cells": [
  {
   "cell_type": "markdown",
   "id": "34167af3-d7c5-4a91-a88d-109734a90d0f",
   "metadata": {},
   "source": [
    "- Exercici 1\n",
    "Instal·la el programa Anaconda amb Python 3, i Jupyter Notebook."
   ]
  },
  {
   "cell_type": "markdown",
   "id": "6397d68b-687e-4ffb-8c53-69aa075226b3",
   "metadata": {},
   "source": [
    "- Exercici 2\n",
    "Crea un entorn virtual a Anaconda amb el nom \"entorn_ML\" que contingui les llibreries necessàries per a ML."
   ]
  },
  {
   "cell_type": "code",
   "execution_count": 31,
   "id": "3599ba34-9bbc-4cf6-8bbf-9e54c18090a3",
   "metadata": {},
   "outputs": [],
   "source": [
    "import pandas as pd\n",
    "import numpy as np\n",
    "import seaborn as sns\n",
    "import math"
   ]
  },
  {
   "cell_type": "markdown",
   "id": "91bce7dd-c949-44f5-afff-3eacbb9b5d90",
   "metadata": {},
   "source": [
    "- Exercici 3\n",
    "Utilitzant Jupyter Notebook executa alguns càlculs senzills, a la vegada que et familiaritzes amb el llenguatge Markdown."
   ]
  },
  {
   "cell_type": "code",
   "execution_count": 33,
   "id": "21b5e18d-5b64-4f6d-a82f-33a68f174a70",
   "metadata": {},
   "outputs": [
    {
     "name": "stdout",
     "output_type": "stream",
     "text": [
      "El resultat de 3+3 és 6\n",
      "El resultat de 10*2 és 20\n",
      "El resultat de 60/2.5 és 24.0\n",
      "El resultat de 10^5 és 100000\n",
      "L’arrel quadrada de 16 és 4.0\n"
     ]
    }
   ],
   "source": [
    "print('El resultat de 3+3 és', (3+3))\n",
    "print('El resultat de 10*2 és', (10*2))\n",
    "print('El resultat de 60/2.5 és', (60/2.5))\n",
    "print('El resultat de 10^5 és', (10**5))\n",
    "print('L’arrel quadrada de 16 és', math.sqrt(16))"
   ]
  },
  {
   "cell_type": "markdown",
   "id": "872fdc3e-a295-441a-99af-7151f90089d2",
   "metadata": {},
   "source": [
    "- Exercici 4\n",
    "Prova de crear títols, llistes, canviar l’estil de la lletra o afegir imatges dins del Notebook."
   ]
  },
  {
   "cell_type": "markdown",
   "id": "c7c1b1d3-2a69-4ef0-b76e-3624588e42aa",
   "metadata": {},
   "source": [
    "# Títol de nivell 1\n",
    "## Títol de nivell 2\n",
    "### Títol de nivell 3"
   ]
  },
  {
   "cell_type": "markdown",
   "id": "0141e728-c28b-479a-9d14-3a42a0eaa747",
   "metadata": {},
   "source": [
    "- Element 1\n",
    "- Element 2\n",
    "    - Sub-element 1"
   ]
  },
  {
   "cell_type": "markdown",
   "id": "f200fd3b-432b-44af-bb07-d085b53d2097",
   "metadata": {},
   "source": [
    "1. Primer element\n",
    "2. Segon element\n",
    "3. Tercer element"
   ]
  },
  {
   "cell_type": "markdown",
   "id": "513e1b2f-5adb-4f6c-a89f-46cd717b2583",
   "metadata": {},
   "source": [
    "**Aquest text és en negreta**\n",
    "*Aquest text és en cursiva*"
   ]
  },
  {
   "cell_type": "markdown",
   "id": "7976b273-b71d-4f9b-b59a-9f8821623b32",
   "metadata": {},
   "source": [
    "- Exercici 5\n",
    "Crea un repositori a GitHub amb el nom \"Projecte Machine Learning\"\n",
    "\n",
    "- Exercici 6\n",
    "Puja el fitxer de Jupyter Notebook al teu repositori de GitHub.\n",
    "\n",
    "https://github.com/ArnauAndrews/Projecte-Machine-Learning/blob/main/entorn_ML.ipynb"
   ]
  }
 ],
 "metadata": {
  "kernelspec": {
   "display_name": "Python 3 (ipykernel)",
   "language": "python",
   "name": "python3"
  },
  "language_info": {
   "codemirror_mode": {
    "name": "ipython",
    "version": 3
   },
   "file_extension": ".py",
   "mimetype": "text/x-python",
   "name": "python",
   "nbconvert_exporter": "python",
   "pygments_lexer": "ipython3",
   "version": "3.12.4"
  }
 },
 "nbformat": 4,
 "nbformat_minor": 5
}
